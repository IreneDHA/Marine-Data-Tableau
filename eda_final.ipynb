{
 "cells": [
  {
   "cell_type": "code",
   "execution_count": 1,
   "id": "9db24a2b",
   "metadata": {},
   "outputs": [],
   "source": [
    "\n",
    "import pandas as pd\n",
    "import requests\n",
    "import re\n",
    "pd.set_option('display.max_columns', None)\n",
    "pd.set_option('display.float_format', '{:.2f}'.format)\n",
    "import numpy as np\n",
    "from geopy.geocoders import Nominatim\n",
    "from geopy.extra.rate_limiter import RateLimiter"
   ]
  },
  {
   "cell_type": "code",
   "execution_count": 2,
   "id": "6f02286b",
   "metadata": {},
   "outputs": [],
   "source": [
    "data = pd.read_csv(\"files/marinedata.csv\", index_col=0)"
   ]
  },
  {
   "cell_type": "code",
   "execution_count": 3,
   "id": "ad580fe4",
   "metadata": {},
   "outputs": [
    {
     "data": {
      "text/plain": [
       "Index(['date_year', 'sampleSizeUnit', 'class', 'scientificName', 'depth',\n",
       "       'institutionCode', 'shoredistance', 'flags', 'maximumDepthInMeters',\n",
       "       'absence', 'date_start', 'minimumDepthInMeters', 'subclass',\n",
       "       'basisOfRecord', 'sss', 'sex', 'organismQuantity', 'sst', 'family',\n",
       "       'kingdom', 'occurrenceID', 'bathymetry', 'date_end',\n",
       "       'organismQuantityType', 'species', 'sampleSizeValue', 'genus',\n",
       "       'waterBody', 'vernacularName', 'id_node', 'name', 'lon', 'lat'],\n",
       "      dtype='object')"
      ]
     },
     "execution_count": 3,
     "metadata": {},
     "output_type": "execute_result"
    }
   ],
   "source": [
    "data.columns"
   ]
  },
  {
   "cell_type": "code",
   "execution_count": null,
   "id": "947380e0",
   "metadata": {},
   "outputs": [],
   "source": [
    "data[\"date_start\"] = pd.to_datetime(data[\"date_start\"], unit='ms')\n",
    "data.drop('absence', axis= 1, inplace= True)\n",
    "data.drop('sampleSizeValue', axis= 1, inplace= True)\n"
   ]
  },
  {
   "cell_type": "code",
   "execution_count": 13,
   "id": "96793551",
   "metadata": {},
   "outputs": [],
   "source": [
    "geolocator = Nominatim(user_agent=\"IreneDHA\")"
   ]
  },
  {
   "cell_type": "code",
   "execution_count": 14,
   "id": "bf058349",
   "metadata": {},
   "outputs": [],
   "source": [
    "reverse = RateLimiter(geolocator.reverse, min_delay_seconds=1)"
   ]
  },
  {
   "cell_type": "code",
   "execution_count": 17,
   "id": "6d31a60f",
   "metadata": {},
   "outputs": [],
   "source": [
    "def get_city_country(row):\n",
    "    lat = row['lat']\n",
    "    lon = row['lon']\n",
    "\n",
    "    try:\n",
    "    # geopy.reverse recibe (lat, lon)\n",
    "        location = reverse((lat, lon), language='en', exactly_one=True)\n",
    "        if location is None:\n",
    "            return pd.Series([None, None])\n",
    "        address = location.raw.get('address', {}) # la respuesta cruda contiene un dict 'address'\n",
    "        # diferentes sitios usan claves distintas para \"ciudad\"\n",
    "        city = address.get('city') or address.get('town') or address.get('village') or address.get('municipality') or address.get('hamlet')\n",
    "        country = address.get('country')\n",
    "        return pd.Series([city, country])\n",
    "    except Exception:\n",
    "        # en caso de error (timeout, servidor) devolvemos None para no romper el proceso\n",
    "        return pd.Series([None, None])\n"
   ]
  },
  {
   "cell_type": "code",
   "execution_count": 18,
   "id": "6cb71673",
   "metadata": {},
   "outputs": [],
   "source": [
    "data[['city', 'country']] = data.apply(get_city_country, axis=1)"
   ]
  },
  {
   "cell_type": "code",
   "execution_count": 19,
   "id": "cbd59220",
   "metadata": {},
   "outputs": [
    {
     "data": {
      "text/plain": [
       "Index(['date_year', 'sampleSizeUnit', 'class', 'scientificName', 'depth',\n",
       "       'institutionCode', 'shoredistance', 'flags', 'maximumDepthInMeters',\n",
       "       'date_start', 'minimumDepthInMeters', 'subclass', 'basisOfRecord',\n",
       "       'sss', 'sex', 'organismQuantity', 'sst', 'family', 'kingdom',\n",
       "       'occurrenceID', 'bathymetry', 'date_end', 'organismQuantityType',\n",
       "       'species', 'genus', 'waterBody', 'vernacularName', 'id_node', 'name',\n",
       "       'lon', 'lat', 'city', 'country'],\n",
       "      dtype='object')"
      ]
     },
     "execution_count": 19,
     "metadata": {},
     "output_type": "execute_result"
    }
   ],
   "source": [
    "data.columns"
   ]
  },
  {
   "cell_type": "code",
   "execution_count": 20,
   "id": "be249f54",
   "metadata": {},
   "outputs": [
    {
     "data": {
      "text/plain": [
       "country\n",
       "United States     217\n",
       "United Kingdom    118\n",
       "Belgium           111\n",
       "Australia          43\n",
       "New Zealand        12\n",
       "Greece             10\n",
       "India               5\n",
       "Canada              1\n",
       "Ukraine             1\n",
       "Ecuador             1\n",
       "Name: count, dtype: int64"
      ]
     },
     "execution_count": 20,
     "metadata": {},
     "output_type": "execute_result"
    }
   ],
   "source": [
    "data['country'].value_counts()"
   ]
  },
  {
   "cell_type": "code",
   "execution_count": 21,
   "id": "825e2a02",
   "metadata": {},
   "outputs": [
    {
     "data": {
      "text/plain": [
       "0"
      ]
     },
     "execution_count": 21,
     "metadata": {},
     "output_type": "execute_result"
    }
   ],
   "source": [
    "data['country'].isna().sum()"
   ]
  },
  {
   "cell_type": "code",
   "execution_count": 22,
   "id": "2ae768f9",
   "metadata": {},
   "outputs": [
    {
     "data": {
      "text/plain": [
       "city\n",
       "Durham                   183\n",
       "Plymouth                 118\n",
       "Ostend                   101\n",
       "Hobart                    43\n",
       "Boulder                   34\n",
       "Waitematā                 12\n",
       "Gouves Municipal Unit     10\n",
       "Brussels                  10\n",
       "Ernakulam                  5\n",
       "Dartmouth                  1\n",
       "Odesa                      1\n",
       "Guayaquil                  1\n",
       "Name: count, dtype: int64"
      ]
     },
     "execution_count": 22,
     "metadata": {},
     "output_type": "execute_result"
    }
   ],
   "source": [
    "data['city'].value_counts()"
   ]
  },
  {
   "cell_type": "code",
   "execution_count": 23,
   "id": "a5a10260",
   "metadata": {},
   "outputs": [
    {
     "data": {
      "text/plain": [
       "0"
      ]
     },
     "execution_count": 23,
     "metadata": {},
     "output_type": "execute_result"
    }
   ],
   "source": [
    "data['city'].isna().sum()"
   ]
  },
  {
   "cell_type": "code",
   "execution_count": 29,
   "id": "8bd6e622",
   "metadata": {},
   "outputs": [],
   "source": [
    "vernacular_corrections = {\n",
    "    'Atlantic gray seal': 'Grey seal',\n",
    "    'humpback whale': 'Humpback whale', \n",
    "    'WHALE-HUMPBACK': 'Humpback whale',\n",
    "    'Humpback Whale': 'Humpback whale',\n",
    "    'Humpback': 'Humpback whale',\n",
    "    'Common Bottlenose Dolphin': 'Bottlenose dolphin',\n",
    "    'Bottlenose dolphin': 'Bottlenose dolphin',\n",
    "    'Cheilinus undulatus': 'Napoleon fish',\n",
    "    'Humphead wrasse': 'Napoleon fish',\n",
    "    }"
   ]
  },
  {
   "cell_type": "code",
   "execution_count": 30,
   "id": "d7b5fd3f",
   "metadata": {},
   "outputs": [],
   "source": [
    "data['vernacularName'] = data['vernacularName'].replace(vernacular_corrections)\n"
   ]
  },
  {
   "cell_type": "code",
   "execution_count": 32,
   "id": "0b46afd4",
   "metadata": {},
   "outputs": [
    {
     "data": {
      "text/plain": [
       "scientificName\n",
       "Neoturris pileata         100\n",
       "Megaptera novaeangliae    100\n",
       "Cheilinus undulatus       100\n",
       "Tursiops truncatus        100\n",
       "Halichoerus grypus        100\n",
       "Phycocaris simulans        19\n",
       "Name: count, dtype: int64"
      ]
     },
     "execution_count": 32,
     "metadata": {},
     "output_type": "execute_result"
    }
   ],
   "source": [
    "data['scientificName'].value_counts(dropna=False)"
   ]
  },
  {
   "cell_type": "code",
   "execution_count": 25,
   "id": "cb7c151c",
   "metadata": {},
   "outputs": [
    {
     "data": {
      "text/plain": [
       "array(['Neoturris pileata', 'Megaptera novaeangliae',\n",
       "       'Phycocaris simulans', 'Cheilinus undulatus', 'Tursiops truncatus',\n",
       "       'Halichoerus grypus'], dtype=object)"
      ]
     },
     "execution_count": 25,
     "metadata": {},
     "output_type": "execute_result"
    }
   ],
   "source": [
    "data['scientificName'].unique()"
   ]
  },
  {
   "cell_type": "code",
   "execution_count": 33,
   "id": "81d8568e",
   "metadata": {},
   "outputs": [],
   "source": [
    "dic = {'Neoturris pileata': 'Pileata jellyfish', 'Phycocaris simulans': 'Hairy shrimp', 'Megaptera novaeangliae': 'Humpback whale', 'Cheilinus undulatus':'Napoleon fish' , 'Tursiops truncatus': 'Bottlenose dolphin', 'Halichoerus grypus': 'Grey seal'}"
   ]
  },
  {
   "cell_type": "code",
   "execution_count": 34,
   "id": "847cd3b7",
   "metadata": {},
   "outputs": [],
   "source": [
    "\n",
    "data[\"vernacularName\"] = data[\"vernacularName\"].fillna(data[\"scientificName\"].map(dic))\n"
   ]
  },
  {
   "cell_type": "code",
   "execution_count": 35,
   "id": "6f30905c",
   "metadata": {},
   "outputs": [
    {
     "data": {
      "text/plain": [
       "vernacularName\n",
       "Pileata jellyfish     100\n",
       "Humpback whale        100\n",
       "Napoleon fish         100\n",
       "Bottlenose dolphin    100\n",
       "Grey seal             100\n",
       "Hairy shrimp           19\n",
       "Name: count, dtype: int64"
      ]
     },
     "execution_count": 35,
     "metadata": {},
     "output_type": "execute_result"
    }
   ],
   "source": [
    "data['vernacularName'].value_counts(dropna=False)"
   ]
  },
  {
   "cell_type": "code",
   "execution_count": 36,
   "id": "f4b5a5b0",
   "metadata": {},
   "outputs": [],
   "source": [
    "data[\"date_end\"] = pd.to_datetime(data[\"date_end\"], unit='ms')\n",
    "data.drop('organismQuantity', axis= 1, inplace= True)\n",
    "data.drop('organismQuantityType', axis= 1, inplace= True)\n"
   ]
  },
  {
   "cell_type": "code",
   "execution_count": 37,
   "id": "730a3dfa",
   "metadata": {},
   "outputs": [],
   "source": [
    "\n",
    "data['date_year'] = data['date_year'].astype('Int64')\n"
   ]
  },
  {
   "cell_type": "code",
   "execution_count": 43,
   "id": "d5ade7be",
   "metadata": {},
   "outputs": [],
   "source": [
    "data[\"flags\"] = data[\"flags\"].replace(\"[]\", \"sin observaciones\")\n",
    "data[\"institutionCode\"] = data[\"institutionCode\"].fillna(\"sin datos\")\n",
    "data[\"sampleSizeUnit\"] = data[\"sampleSizeUnit\"].fillna(\"desconocido\")\n",
    "data[\"bathymetry\"] = data[\"bathymetry\"].replace(\"-\", \"\")"
   ]
  },
  {
   "cell_type": "code",
   "execution_count": 44,
   "id": "08dbfa7d",
   "metadata": {},
   "outputs": [],
   "source": [
    "data.drop('depth', axis= 1, inplace= True)"
   ]
  },
  {
   "cell_type": "code",
   "execution_count": 45,
   "id": "e2d3dad1",
   "metadata": {},
   "outputs": [],
   "source": [
    "data.columns = (\n",
    "    data.columns\n",
    "    .str.strip()        # quita espacios al inicio y fin\n",
    "    .str.lower()        # pasa a minúsculas\n",
    "    .str.replace(\" \", \"_\")  # reemplaza espacios por guión bajo\n",
    ")"
   ]
  },
  {
   "cell_type": "code",
   "execution_count": 46,
   "id": "e1c283cf",
   "metadata": {},
   "outputs": [
    {
     "data": {
      "text/plain": [
       "Index(['date_year', 'samplesizeunit', 'class', 'scientificname',\n",
       "       'institutioncode', 'shoredistance', 'flags', 'maximumdepthinmeters',\n",
       "       'date_start', 'minimumdepthinmeters', 'subclass', 'basisofrecord',\n",
       "       'sss', 'sex', 'sst', 'family', 'kingdom', 'occurrenceid', 'bathymetry',\n",
       "       'date_end', 'species', 'genus', 'waterbody', 'vernacularname',\n",
       "       'id_node', 'name', 'lon', 'lat', 'city', 'country'],\n",
       "      dtype='object')"
      ]
     },
     "execution_count": 46,
     "metadata": {},
     "output_type": "execute_result"
    }
   ],
   "source": [
    "data.columns"
   ]
  },
  {
   "cell_type": "code",
   "execution_count": 41,
   "id": "39134388",
   "metadata": {},
   "outputs": [
    {
     "data": {
      "text/plain": [
       "depth\n",
       "NaN        257\n",
       "0.00        95\n",
       "10.00       83\n",
       "5.00        20\n",
       "4.00         3\n",
       "23.20        2\n",
       "8.00         2\n",
       "15.10        2\n",
       "29.00        2\n",
       "23.00        2\n",
       "20.00        2\n",
       "16.60        1\n",
       "12.00        1\n",
       "8.40         1\n",
       "16.50        1\n",
       "24.00        1\n",
       "14.25        1\n",
       "15.50        1\n",
       "9.00         1\n",
       "17.29        1\n",
       "7.00         1\n",
       "14.45        1\n",
       "21.50        1\n",
       "15.00        1\n",
       "17.59        1\n",
       "13.83        1\n",
       "15.86        1\n",
       "0.50         1\n",
       "9.95         1\n",
       "17.28        1\n",
       "17.60        1\n",
       "9.50         1\n",
       "13.38        1\n",
       "0.61         1\n",
       "19.31        1\n",
       "16.52        1\n",
       "3952.00      1\n",
       "11.50        1\n",
       "26.00        1\n",
       "28.00        1\n",
       "20.05        1\n",
       "14.75        1\n",
       "0.92         1\n",
       "11.17        1\n",
       "55.00        1\n",
       "17.20        1\n",
       "15.40        1\n",
       "15.55        1\n",
       "9.20         1\n",
       "9.25         1\n",
       "14.00        1\n",
       "12.74        1\n",
       "13.00        1\n",
       "21.30        1\n",
       "16.66        1\n",
       "18.00        1\n",
       "1.37         1\n",
       "21.00        1\n",
       "12.70        1\n",
       "22.94        1\n",
       "Name: count, dtype: int64"
      ]
     },
     "execution_count": 41,
     "metadata": {},
     "output_type": "execute_result"
    }
   ],
   "source": [
    "data['depth'].value_counts(dropna=False)"
   ]
  },
  {
   "cell_type": "code",
   "execution_count": 39,
   "id": "4683dc5a",
   "metadata": {},
   "outputs": [
    {
     "data": {
      "text/plain": [
       "bathymetry\n",
       "51.00     84\n",
       "2.00      20\n",
       "-1.00     17\n",
       "6.00       9\n",
       "56.00      9\n",
       "          ..\n",
       "1.56       1\n",
       "-72.00     1\n",
       "3.26       1\n",
       "3.46       1\n",
       "57.00      1\n",
       "Name: count, Length: 244, dtype: int64"
      ]
     },
     "execution_count": 39,
     "metadata": {},
     "output_type": "execute_result"
    }
   ],
   "source": [
    "data['bathymetry'].value_counts(dropna=False)"
   ]
  },
  {
   "cell_type": "code",
   "execution_count": null,
   "id": "4a841a6a",
   "metadata": {},
   "outputs": [],
   "source": [
    "data.to_csv('files/marinedata_final.csv', index=False)"
   ]
  }
 ],
 "metadata": {
  "kernelspec": {
   "display_name": "base",
   "language": "python",
   "name": "python3"
  },
  "language_info": {
   "codemirror_mode": {
    "name": "ipython",
    "version": 3
   },
   "file_extension": ".py",
   "mimetype": "text/x-python",
   "name": "python",
   "nbconvert_exporter": "python",
   "pygments_lexer": "ipython3",
   "version": "3.12.7"
  }
 },
 "nbformat": 4,
 "nbformat_minor": 5
}
