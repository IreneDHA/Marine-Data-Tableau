{
 "cells": [
  {
   "cell_type": "code",
   "execution_count": 8,
   "id": "9db24a2b",
   "metadata": {},
   "outputs": [],
   "source": [
    "\n",
    "import pandas as pd\n",
    "import requests\n",
    "import re\n",
    "pd.set_option('display.max_columns', None)\n",
    "pd.set_option('display.float_format', '{:.2f}'.format)\n",
    "import numpy as np\n",
    "from geopy.geocoders import Nominatim\n",
    "from geopy.extra.rate_limiter import RateLimiter"
   ]
  },
  {
   "cell_type": "code",
   "execution_count": 9,
   "id": "6f02286b",
   "metadata": {},
   "outputs": [],
   "source": [
    "data = pd.read_csv(\"marinedata.csv\", index_col=0)"
   ]
  },
  {
   "cell_type": "code",
   "execution_count": 10,
   "id": "ad580fe4",
   "metadata": {},
   "outputs": [
    {
     "data": {
      "text/plain": [
       "Index(['date_year', 'sampleSizeUnit', 'class', 'scientificName', 'depth',\n",
       "       'institutionCode', 'shoredistance', 'flags', 'maximumDepthInMeters',\n",
       "       'absence', 'date_start', 'minimumDepthInMeters', 'subclass',\n",
       "       'basisOfRecord', 'sss', 'sex', 'organismQuantity', 'sst', 'family',\n",
       "       'kingdom', 'occurrenceID', 'bathymetry', 'date_end',\n",
       "       'organismQuantityType', 'species', 'sampleSizeValue', 'genus',\n",
       "       'waterBody', 'vernacularName', 'id_node', 'name', 'lon', 'lat'],\n",
       "      dtype='object')"
      ]
     },
     "execution_count": 10,
     "metadata": {},
     "output_type": "execute_result"
    }
   ],
   "source": [
    "data.columns"
   ]
  },
  {
   "cell_type": "code",
   "execution_count": null,
   "id": "947380e0",
   "metadata": {},
   "outputs": [],
   "source": [
    "data[\"date_start\"] = pd.to_datetime(data[\"date_start\"], unit='ms')\n",
    "data.drop('absence', axis= 1, inplace= True)\n",
    "data.drop('sampleSizeValue', axis= 1, inplace= True)\n"
   ]
  },
  {
   "cell_type": "code",
   "execution_count": 13,
   "id": "96793551",
   "metadata": {},
   "outputs": [],
   "source": [
    "geolocator = Nominatim(user_agent=\"IreneDHA\")"
   ]
  },
  {
   "cell_type": "code",
   "execution_count": 14,
   "id": "bf058349",
   "metadata": {},
   "outputs": [],
   "source": [
    "reverse = RateLimiter(geolocator.reverse, min_delay_seconds=1)"
   ]
  },
  {
   "cell_type": "code",
   "execution_count": 17,
   "id": "6d31a60f",
   "metadata": {},
   "outputs": [],
   "source": [
    "def get_city_country(row):\n",
    "    lat = row['lat']\n",
    "    lon = row['lon']\n",
    "\n",
    "    try:\n",
    "    # geopy.reverse recibe (lat, lon)\n",
    "        location = reverse((lat, lon), language='en', exactly_one=True)\n",
    "        if location is None:\n",
    "            return pd.Series([None, None])\n",
    "        address = location.raw.get('address', {}) # la respuesta cruda contiene un dict 'address'\n",
    "        # diferentes sitios usan claves distintas para \"ciudad\"\n",
    "        city = address.get('city') or address.get('town') or address.get('village') or address.get('municipality') or address.get('hamlet')\n",
    "        country = address.get('country')\n",
    "        return pd.Series([city, country])\n",
    "    except Exception:\n",
    "        # en caso de error (timeout, servidor) devolvemos None para no romper el proceso\n",
    "        return pd.Series([None, None])\n"
   ]
  },
  {
   "cell_type": "code",
   "execution_count": 18,
   "id": "6cb71673",
   "metadata": {},
   "outputs": [],
   "source": [
    "data[['city', 'country']] = data.apply(get_city_country, axis=1)"
   ]
  },
  {
   "cell_type": "code",
   "execution_count": 19,
   "id": "cbd59220",
   "metadata": {},
   "outputs": [
    {
     "data": {
      "text/plain": [
       "Index(['date_year', 'sampleSizeUnit', 'class', 'scientificName', 'depth',\n",
       "       'institutionCode', 'shoredistance', 'flags', 'maximumDepthInMeters',\n",
       "       'date_start', 'minimumDepthInMeters', 'subclass', 'basisOfRecord',\n",
       "       'sss', 'sex', 'organismQuantity', 'sst', 'family', 'kingdom',\n",
       "       'occurrenceID', 'bathymetry', 'date_end', 'organismQuantityType',\n",
       "       'species', 'genus', 'waterBody', 'vernacularName', 'id_node', 'name',\n",
       "       'lon', 'lat', 'city', 'country'],\n",
       "      dtype='object')"
      ]
     },
     "execution_count": 19,
     "metadata": {},
     "output_type": "execute_result"
    }
   ],
   "source": [
    "data.columns"
   ]
  },
  {
   "cell_type": "code",
   "execution_count": 20,
   "id": "be249f54",
   "metadata": {},
   "outputs": [
    {
     "data": {
      "text/plain": [
       "country\n",
       "United States     217\n",
       "United Kingdom    118\n",
       "Belgium           111\n",
       "Australia          43\n",
       "New Zealand        12\n",
       "Greece             10\n",
       "India               5\n",
       "Canada              1\n",
       "Ukraine             1\n",
       "Ecuador             1\n",
       "Name: count, dtype: int64"
      ]
     },
     "execution_count": 20,
     "metadata": {},
     "output_type": "execute_result"
    }
   ],
   "source": [
    "data['country'].value_counts()"
   ]
  },
  {
   "cell_type": "code",
   "execution_count": 21,
   "id": "825e2a02",
   "metadata": {},
   "outputs": [
    {
     "data": {
      "text/plain": [
       "0"
      ]
     },
     "execution_count": 21,
     "metadata": {},
     "output_type": "execute_result"
    }
   ],
   "source": [
    "data['country'].isna().sum()"
   ]
  },
  {
   "cell_type": "code",
   "execution_count": 22,
   "id": "2ae768f9",
   "metadata": {},
   "outputs": [
    {
     "data": {
      "text/plain": [
       "city\n",
       "Durham                   183\n",
       "Plymouth                 118\n",
       "Ostend                   101\n",
       "Hobart                    43\n",
       "Boulder                   34\n",
       "Waitematā                 12\n",
       "Gouves Municipal Unit     10\n",
       "Brussels                  10\n",
       "Ernakulam                  5\n",
       "Dartmouth                  1\n",
       "Odesa                      1\n",
       "Guayaquil                  1\n",
       "Name: count, dtype: int64"
      ]
     },
     "execution_count": 22,
     "metadata": {},
     "output_type": "execute_result"
    }
   ],
   "source": [
    "data['city'].value_counts()"
   ]
  },
  {
   "cell_type": "code",
   "execution_count": 23,
   "id": "a5a10260",
   "metadata": {},
   "outputs": [
    {
     "data": {
      "text/plain": [
       "0"
      ]
     },
     "execution_count": 23,
     "metadata": {},
     "output_type": "execute_result"
    }
   ],
   "source": [
    "data['city'].isna().sum()"
   ]
  },
  {
   "cell_type": "code",
   "execution_count": 29,
   "id": "8bd6e622",
   "metadata": {},
   "outputs": [],
   "source": [
    "vernacular_corrections = {\n",
    "    'Atlantic gray seal': 'Grey seal',\n",
    "    'humpback whale': 'Humpback whale', \n",
    "    'WHALE-HUMPBACK': 'Humpback whale',\n",
    "    'Humpback Whale': 'Humpback whale',\n",
    "    'Humpback': 'Humpback whale',\n",
    "    'Common Bottlenose Dolphin': 'Bottlenose dolphin',\n",
    "    'Bottlenose dolphin': 'Bottlenose dolphin',\n",
    "    'Cheilinus undulatus': 'Napoleon fish',\n",
    "    'Humphead wrasse': 'Napoleon fish',\n",
    "    }"
   ]
  },
  {
   "cell_type": "code",
   "execution_count": 30,
   "id": "d7b5fd3f",
   "metadata": {},
   "outputs": [],
   "source": [
    "data['vernacularName'] = data['vernacularName'].replace(vernacular_corrections)\n"
   ]
  },
  {
   "cell_type": "code",
   "execution_count": 32,
   "id": "0b46afd4",
   "metadata": {},
   "outputs": [
    {
     "data": {
      "text/plain": [
       "scientificName\n",
       "Neoturris pileata         100\n",
       "Megaptera novaeangliae    100\n",
       "Cheilinus undulatus       100\n",
       "Tursiops truncatus        100\n",
       "Halichoerus grypus        100\n",
       "Phycocaris simulans        19\n",
       "Name: count, dtype: int64"
      ]
     },
     "execution_count": 32,
     "metadata": {},
     "output_type": "execute_result"
    }
   ],
   "source": [
    "data['scientificName'].value_counts(dropna=False)"
   ]
  },
  {
   "cell_type": "code",
   "execution_count": 25,
   "id": "cb7c151c",
   "metadata": {},
   "outputs": [
    {
     "data": {
      "text/plain": [
       "array(['Neoturris pileata', 'Megaptera novaeangliae',\n",
       "       'Phycocaris simulans', 'Cheilinus undulatus', 'Tursiops truncatus',\n",
       "       'Halichoerus grypus'], dtype=object)"
      ]
     },
     "execution_count": 25,
     "metadata": {},
     "output_type": "execute_result"
    }
   ],
   "source": [
    "data['scientificName'].unique()"
   ]
  },
  {
   "cell_type": "code",
   "execution_count": 33,
   "id": "81d8568e",
   "metadata": {},
   "outputs": [],
   "source": [
    "dic = {'Neoturris pileata': 'Pileata jellyfish', 'Phycocaris simulans': 'Hairy shrimp', 'Megaptera novaeangliae': 'Humpback whale', 'Cheilinus undulatus':'Napoleon fish' , 'Tursiops truncatus': 'Bottlenose dolphin', 'Halichoerus grypus': 'Grey seal'}"
   ]
  },
  {
   "cell_type": "code",
   "execution_count": 34,
   "id": "847cd3b7",
   "metadata": {},
   "outputs": [],
   "source": [
    "\n",
    "data[\"vernacularName\"] = data[\"vernacularName\"].fillna(data[\"scientificName\"].map(dic))\n"
   ]
  },
  {
   "cell_type": "code",
   "execution_count": 35,
   "id": "6f30905c",
   "metadata": {},
   "outputs": [
    {
     "data": {
      "text/plain": [
       "vernacularName\n",
       "Pileata jellyfish     100\n",
       "Humpback whale        100\n",
       "Napoleon fish         100\n",
       "Bottlenose dolphin    100\n",
       "Grey seal             100\n",
       "Hairy shrimp           19\n",
       "Name: count, dtype: int64"
      ]
     },
     "execution_count": 35,
     "metadata": {},
     "output_type": "execute_result"
    }
   ],
   "source": [
    "data['vernacularName'].value_counts(dropna=False)"
   ]
  },
  {
   "cell_type": "code",
   "execution_count": 36,
   "id": "f4b5a5b0",
   "metadata": {},
   "outputs": [],
   "source": [
    "data[\"date_end\"] = pd.to_datetime(data[\"date_end\"], unit='ms')\n",
    "data.drop('organismQuantity', axis= 1, inplace= True)\n",
    "data.drop('organismQuantityType', axis= 1, inplace= True)\n"
   ]
  },
  {
   "cell_type": "code",
   "execution_count": 37,
   "id": "730a3dfa",
   "metadata": {},
   "outputs": [],
   "source": [
    "\n",
    "data['date_year'] = data['date_year'].astype('Int64')\n"
   ]
  },
  {
   "cell_type": "code",
   "execution_count": 43,
   "id": "d5ade7be",
   "metadata": {},
   "outputs": [],
   "source": [
    "data[\"flags\"] = data[\"flags\"].replace(\"[]\", \"sin observaciones\")\n",
    "data[\"institutionCode\"] = data[\"institutionCode\"].fillna(\"sin datos\")\n",
    "data[\"sampleSizeUnit\"] = data[\"sampleSizeUnit\"].fillna(\"desconocido\")\n",
    "data[\"bathymetry\"] = data[\"bathymetry\"].replace(\"-\", \"\")"
   ]
  },
  {
   "cell_type": "code",
   "execution_count": 44,
   "id": "08dbfa7d",
   "metadata": {},
   "outputs": [],
   "source": [
    "data.drop('depth', axis= 1, inplace= True)"
   ]
  },
  {
   "cell_type": "code",
   "execution_count": 45,
   "id": "e2d3dad1",
   "metadata": {},
   "outputs": [],
   "source": [
    "data.columns = (\n",
    "    data.columns\n",
    "    .str.strip()        # quita espacios al inicio y fin\n",
    "    .str.lower()        # pasa a minúsculas\n",
    "    .str.replace(\" \", \"_\")  # reemplaza espacios por guión bajo\n",
    ")"
   ]
  },
  {
   "cell_type": "code",
   "execution_count": 46,
   "id": "e1c283cf",
   "metadata": {},
   "outputs": [
    {
     "data": {
      "text/plain": [
       "Index(['date_year', 'samplesizeunit', 'class', 'scientificname',\n",
       "       'institutioncode', 'shoredistance', 'flags', 'maximumdepthinmeters',\n",
       "       'date_start', 'minimumdepthinmeters', 'subclass', 'basisofrecord',\n",
       "       'sss', 'sex', 'sst', 'family', 'kingdom', 'occurrenceid', 'bathymetry',\n",
       "       'date_end', 'species', 'genus', 'waterbody', 'vernacularname',\n",
       "       'id_node', 'name', 'lon', 'lat', 'city', 'country'],\n",
       "      dtype='object')"
      ]
     },
     "execution_count": 46,
     "metadata": {},
     "output_type": "execute_result"
    }
   ],
   "source": [
    "data.columns"
   ]
  },
  {
   "cell_type": "code",
   "execution_count": 41,
   "id": "39134388",
   "metadata": {},
   "outputs": [
    {
     "data": {
      "text/plain": [
       "depth\n",
       "NaN        257\n",
       "0.00        95\n",
       "10.00       83\n",
       "5.00        20\n",
       "4.00         3\n",
       "23.20        2\n",
       "8.00         2\n",
       "15.10        2\n",
       "29.00        2\n",
       "23.00        2\n",
       "20.00        2\n",
       "16.60        1\n",
       "12.00        1\n",
       "8.40         1\n",
       "16.50        1\n",
       "24.00        1\n",
       "14.25        1\n",
       "15.50        1\n",
       "9.00         1\n",
       "17.29        1\n",
       "7.00         1\n",
       "14.45        1\n",
       "21.50        1\n",
       "15.00        1\n",
       "17.59        1\n",
       "13.83        1\n",
       "15.86        1\n",
       "0.50         1\n",
       "9.95         1\n",
       "17.28        1\n",
       "17.60        1\n",
       "9.50         1\n",
       "13.38        1\n",
       "0.61         1\n",
       "19.31        1\n",
       "16.52        1\n",
       "3952.00      1\n",
       "11.50        1\n",
       "26.00        1\n",
       "28.00        1\n",
       "20.05        1\n",
       "14.75        1\n",
       "0.92         1\n",
       "11.17        1\n",
       "55.00        1\n",
       "17.20        1\n",
       "15.40        1\n",
       "15.55        1\n",
       "9.20         1\n",
       "9.25         1\n",
       "14.00        1\n",
       "12.74        1\n",
       "13.00        1\n",
       "21.30        1\n",
       "16.66        1\n",
       "18.00        1\n",
       "1.37         1\n",
       "21.00        1\n",
       "12.70        1\n",
       "22.94        1\n",
       "Name: count, dtype: int64"
      ]
     },
     "execution_count": 41,
     "metadata": {},
     "output_type": "execute_result"
    }
   ],
   "source": [
    "data['depth'].value_counts(dropna=False)"
   ]
  },
  {
   "cell_type": "code",
   "execution_count": 39,
   "id": "4683dc5a",
   "metadata": {},
   "outputs": [
    {
     "data": {
      "text/plain": [
       "bathymetry\n",
       "51.00     84\n",
       "2.00      20\n",
       "-1.00     17\n",
       "6.00       9\n",
       "56.00      9\n",
       "          ..\n",
       "1.56       1\n",
       "-72.00     1\n",
       "3.26       1\n",
       "3.46       1\n",
       "57.00      1\n",
       "Name: count, Length: 244, dtype: int64"
      ]
     },
     "execution_count": 39,
     "metadata": {},
     "output_type": "execute_result"
    }
   ],
   "source": [
    "data['bathymetry'].value_counts(dropna=False)"
   ]
  },
  {
   "cell_type": "code",
   "execution_count": 40,
   "id": "6f940e37",
   "metadata": {},
   "outputs": [
    {
     "data": {
      "text/plain": [
       "array([ 5.1000e+01,  5.6000e+01,  2.9890e+03,  4.0670e+03,  4.5000e+01,\n",
       "        2.2800e+01,  4.2000e+01,  1.0626e+03, -2.0000e+00,  2.5400e+01,\n",
       "        5.4400e+02,  7.4000e+01,  8.0700e+02,  8.3000e+01,  5.3210e+03,\n",
       "        3.3300e+02,  6.2000e+01,  1.2200e+02,  1.7000e+01,  6.5000e+02,\n",
       "        3.3360e+01,  1.8400e+02,  5.5000e+01,  1.9000e+01,  3.3500e+02,\n",
       "        9.8000e+01,  1.9500e+01,  9.1000e+01,  5.1000e+02,  7.3000e+01,\n",
       "        1.2100e+02,  2.6000e+02,  3.4000e+01,  9.5000e+01,  2.2000e+01,\n",
       "        9.3000e+01,  1.0000e+00,  2.0300e+02,  8.8000e+01,  6.7000e+02,\n",
       "        4.8620e+03,  5.0000e+01,  1.7600e+02,  1.8570e+03,  1.5660e+03,\n",
       "        1.2000e+01,  2.1000e+01,  8.0000e+01, -1.3000e+01,  1.6460e+03,\n",
       "        5.4000e+01,  6.4000e+00,  7.5000e+01,  2.7010e+03,  2.6700e+02,\n",
       "        3.4200e+02,  4.9000e+01,  8.0000e+02,  7.0000e+00,  2.5700e+02,\n",
       "        2.7900e+02,  1.6770e+03,  1.1200e+02,  5.0800e+02,  3.0000e+01,\n",
       "        7.9000e+02,  4.0300e+02,  1.7330e+03,  6.2100e+02,  7.1000e+01,\n",
       "        1.7850e+01,  2.0500e+02,  1.5600e+02,  2.8000e+01,  1.4700e+02,\n",
       "        8.1000e+01,  1.3600e+02,  9.4000e+01,  1.2400e+02,  7.0000e+01,\n",
       "        4.0000e+02,  1.6800e+02,  5.1700e+02,  2.3000e+01,  1.1400e+02,\n",
       "        1.2000e+02,  1.2300e+02,  1.4000e+01,  1.6110e+03,  2.6000e+01,\n",
       "        1.3240e+03,  6.0000e+00,  8.0000e+00,  3.0000e+00,  2.0000e+00,\n",
       "        1.2650e+03, -1.0000e+00, -3.3900e+02, -9.0000e+00,  1.4760e+01,\n",
       "        4.7500e+00,  1.8500e+02,  5.8300e+00,  3.5100e+00,  5.3400e+00,\n",
       "        3.4500e+03,  7.2720e+02,  1.5600e+00,  1.8000e+00, -7.2000e+01,\n",
       "        3.2600e+00,  3.4600e+00,  7.2100e+00,  1.9600e+01,  8.3100e+00,\n",
       "       -2.1000e+01,  2.9100e+02, -8.0000e+00,  1.0300e+02,  8.6000e+01,\n",
       "        9.2500e+00,  4.0000e+00,  2.8780e+01,  7.0100e+00,  7.9400e+00,\n",
       "        5.0400e+00,  7.8000e+01,  1.1600e+00,  2.0640e+01,  2.7700e+02,\n",
       "        4.8000e+01,  2.4000e+01,  4.1000e+01,  5.8100e+02, -4.9000e+01,\n",
       "        1.1200e+00, -7.5300e+02, -1.8000e+01,  3.6570e+01,  1.8000e+01,\n",
       "       -5.2000e+01,  2.2700e+02,  6.0900e+00, -5.3000e+01, -6.0000e+00,\n",
       "        3.1100e+02, -3.4000e+01,  1.5700e+02, -3.0000e+01,  4.1000e+00,\n",
       "        8.7000e+01,  1.2130e+01,  1.4300e+02,  1.5400e+01, -7.0000e+00,\n",
       "        3.2000e+00,  8.6000e+00, -1.6000e+00, -1.4000e+01,  2.8000e+00,\n",
       "        9.2200e+02,  1.8600e+01,  1.0400e+01,  2.0000e+01,  1.4000e+00,\n",
       "        4.4000e+01,  2.9460e+03,  5.0000e+00,  2.5600e+01,  1.3200e+01,\n",
       "        1.6800e+01,  3.3550e+02, -3.0000e+00,  5.1400e+01,  1.1700e+02,\n",
       "       -1.7000e+01, -7.2000e+00,  2.0400e+01,  1.3840e+03,  1.5200e+01,\n",
       "        1.1800e+01,  3.9150e+02, -2.3000e+01,  3.4000e+00, -6.1000e+01,\n",
       "        1.5300e+02,  4.4600e+01,  5.6000e+00, -4.0000e+00,  1.0000e+01,\n",
       "        5.0700e+02,  7.4000e+00,  4.2200e+01, -1.8000e+00,  2.4000e+00,\n",
       "        1.6145e+03,  1.7200e+01,  7.6000e+00,  8.2000e+00,  9.0000e+00,\n",
       "       -5.0000e+00,  3.1000e+01,  1.3400e+01,  4.4000e+00,  1.1600e+01,\n",
       "        1.4600e+01,  8.8000e+00,  1.0000e+02,  5.0400e+01,  1.2000e+00,\n",
       "       -3.6000e+00,  1.0640e+02,  5.7400e+01,  1.6200e+01,  7.8400e+01,\n",
       "        2.2400e+01,  5.4400e+01,  8.4000e+00,  9.6200e+01,  5.5400e+01,\n",
       "        3.7000e+01,  0.0000e+00,  9.0000e+01,  1.8400e+01,  4.0000e-01,\n",
       "        2.1800e+01,  6.7400e+01, -2.4000e+00,  3.9600e+01,  1.7400e+01,\n",
       "       -4.5000e+01,  5.4000e+00,  4.6400e+01,  8.9800e+01,  1.1940e+02,\n",
       "        6.7200e+01,  1.1140e+02,  1.2400e+01,  6.2000e+00,  8.6600e+01,\n",
       "        3.3000e+01,  3.0400e+01,  1.1040e+02,  5.7000e+01])"
      ]
     },
     "execution_count": 40,
     "metadata": {},
     "output_type": "execute_result"
    }
   ],
   "source": [
    "data['bathymetry'].unique()"
   ]
  },
  {
   "cell_type": "code",
   "execution_count": 42,
   "id": "5a0a9b9d",
   "metadata": {},
   "outputs": [
    {
     "data": {
      "text/plain": [
       "array([  6836,    356, 245856, 330816,    128,    166,    698,   6970,\n",
       "           14,  13864, 157497,   6575,  16720,  29021, 998609,   8789,\n",
       "          756,   6729,   1039,  18461,  11474,  10273,  32724,   7181,\n",
       "        10035,   5007,  10321,  19881,   6241,   5740,   5176,  10941,\n",
       "         2809,   5072,   4626,  10937,    308,   2251,   1548,   1099,\n",
       "          593,   5315,  15789,   1279,  16887, 759895,   3800,   1717,\n",
       "       655742,  11937,   3225, 129065,   4147,    354,  13032,    830,\n",
       "         1533,    615, 295031,   4089,   4203, 315484,   5944,   1913,\n",
       "        12755,   8896,   2549,   1331,   8230,   1956,   5708,  50015,\n",
       "          504,   8268,  25942,  13123,  65989,   1418,   7477,   7495,\n",
       "        45613,    663,    489,  25709,    569,   4076,   4331,   5251,\n",
       "         2119,  13833,   7977,   6021,   1124,   5653,   4309,   8084,\n",
       "        14173,  24367,  59860,   2986,  17210,  77172,    -39,   1685,\n",
       "         2007,    205,   9488,    720,    574,     38,    425,   1224,\n",
       "          719,    -19,   -728,    467,    494,   1108,    816,  14851,\n",
       "         4389,  14975,  25989,  18959,  36896,  17909,  30581,   9090,\n",
       "          129,    470,    101,  62375,    591,    290,   5438,    600,\n",
       "        19105,     96,   3516,   6798,    261,    300,   1812,   5432,\n",
       "         1021,    125,    440,  12825, 101108,    971,  33836,   4166,\n",
       "        24174,    500,    228,    588,   1448,    258,      5,   1126,\n",
       "        53846,   3082,   2470,    645,   4422,    144,   -703,    233,\n",
       "        58969,  -1314,     76,    126,    717, 107286,    240,    628,\n",
       "          790, 119778,  87806,     79,     26,    169,    170,    777,\n",
       "         4428,  79920,    159,     13,   1352,     73,     49,    313,\n",
       "          541,    148,    103,    353,    632,    501,     -9,    158,\n",
       "          849,   8462,    316,    177,    340,    285,  37982,  13281,\n",
       "       170357,    812,    954,   2665,    526,    359,    958,   3191,\n",
       "           68,    224,    770,    145,   1746,    211,    978,   2815,\n",
       "          191,   2367,    613,   4842,   1380,  -6957,  -1704,    384,\n",
       "         -120,    546,  10487,   6478,    307,     60,    194,   1436,\n",
       "         2598,     75,   -200,   -374,    592,    147,  14056,   1101,\n",
       "            1,   5384,    357,     34,    455,   1046,    133,   3218,\n",
       "          109,   1947,    686,    517,     45,  75791,    905,   2495,\n",
       "         1230,   7279,    914,    218,   4154,   3050,   1208,   1841,\n",
       "          562,    343,   -669,    508,    189,   2566,     81,    248,\n",
       "          605,     42,    244,    641,  39117,  15945,  12856,  94504,\n",
       "         1365,   -887,   3370,   -184,  11642,  63492,   8829,  11838,\n",
       "          721,    344,   4174,     97,  13392,    -30,  28508,   2002,\n",
       "        35695,  13362,   1390,     50,    693,    741,   2916,   6110,\n",
       "          458,   1456,   4998,   4066,    387,    587,   1394,     17,\n",
       "         9803,  20576,  11842,    639, 125510,   9299,   3381,   1295,\n",
       "           20,    573,   1446,     16,      3,     30,    288,    904,\n",
       "          163,    993,    216,   6928,   1134,  27937,   2256,   2056,\n",
       "        12119,  74866,    838,   1000,  13083,  20529,   1477, 118012,\n",
       "          122,  10125,    424,  12181,    528,    -25,   8100,  17663,\n",
       "           80,   1384,  10791,    231,    607,   3148,    161,    -71,\n",
       "         -469,  32849,     36,    472,  11876,    238,  17689,     53,\n",
       "        14010], dtype=int64)"
      ]
     },
     "execution_count": 42,
     "metadata": {},
     "output_type": "execute_result"
    }
   ],
   "source": [
    "data['shoredistance'].unique()"
   ]
  },
  {
   "cell_type": "code",
   "execution_count": 52,
   "id": "4a841a6a",
   "metadata": {},
   "outputs": [],
   "source": [
    "data.to_csv('marinedata_final.csv', index=False)"
   ]
  }
 ],
 "metadata": {
  "kernelspec": {
   "display_name": "base",
   "language": "python",
   "name": "python3"
  },
  "language_info": {
   "codemirror_mode": {
    "name": "ipython",
    "version": 3
   },
   "file_extension": ".py",
   "mimetype": "text/x-python",
   "name": "python",
   "nbconvert_exporter": "python",
   "pygments_lexer": "ipython3",
   "version": "3.12.7"
  }
 },
 "nbformat": 4,
 "nbformat_minor": 5
}
